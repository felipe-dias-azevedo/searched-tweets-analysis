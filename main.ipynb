{
 "cells": [
  {
   "cell_type": "code",
   "execution_count": 1,
   "outputs": [],
   "source": [
    "import gettweets, fileutils\n",
    "import pandas as pd"
   ],
   "metadata": {
    "collapsed": false,
    "pycharm": {
     "name": "#%%\n"
    }
   }
  },
  {
   "cell_type": "markdown",
   "source": [
    "## Obter tweets e gerar arquivo (json) correspondente"
   ],
   "metadata": {
    "collapsed": false,
    "pycharm": {
     "name": "#%% md\n"
    }
   }
  },
  {
   "cell_type": "code",
   "execution_count": null,
   "outputs": [],
   "source": [
    "gettweets.main()"
   ],
   "metadata": {
    "collapsed": false,
    "pycharm": {
     "name": "#%%\n"
    }
   }
  },
  {
   "cell_type": "markdown",
   "source": [
    "## Analisar arquivo bruto de tweets para geração de preprocessado\n",
    "### Apresenta análise de sentimentos e obtém frequência de palavras digitadas"
   ],
   "metadata": {
    "collapsed": false,
    "pycharm": {
     "name": "#%% md\n"
    }
   }
  },
  {
   "cell_type": "code",
   "execution_count": null,
   "outputs": [],
   "source": [
    "file = \"tweets-2022-05-24_03-57-12.json\"\n",
    "fileutils.run(file_name=file)"
   ],
   "metadata": {
    "collapsed": false,
    "pycharm": {
     "name": "#%%\n"
    }
   }
  },
  {
   "cell_type": "markdown",
   "source": [
    "## Le arquivo preprocessado"
   ],
   "metadata": {
    "collapsed": false,
    "pycharm": {
     "name": "#%% md\n"
    }
   }
  },
  {
   "cell_type": "code",
   "execution_count": 8,
   "outputs": [
    {
     "data": {
      "text/plain": "     sentiment                                           frequent  verified  \\\n0        False  [[passei, 1], [terceira, 1], [chamada, 1], [uf...     False   \n1        False  [[papel, 1], [fies, 1], [prouni, 1], [privatiz...     False   \n2        False  [[políticas, 1], [fiscais, 1], [liberdade, 1],...     False   \n3        False  [[vou, 1], [tentar, 1], [pro, 1], [prouni, 1],...     False   \n4         True  [[esqueceu, 1], [abertura, 1], [contra, 1], [l...     False   \n..         ...                                                ...       ...   \n202       True  [[acabei, 1], [notar, 1], [ano, 1], [completa,...     False   \n203       True  [[veio, 1], [contrato, 1], [financeiro, 1], [f...     False   \n204      False  [[enem, 2], [olho, 1], [prazo, 1], [inscrições...     False   \n205      False  [[vou, 2], [ter, 1], [pagar, 1], [inscrição, 1...     False   \n206      False  [[contou, 1], [mudei, 1], [faculdade, 1], [pra...     False   \n\n                         date  \n0   2022-05-24 00:15:08+00:00  \n1   2022-05-23 23:36:59+00:00  \n2   2022-05-24 00:20:46+00:00  \n3   2022-05-23 22:39:58+00:00  \n4   2022-05-24 00:48:04+00:00  \n..                        ...  \n202 2022-05-17 13:03:08+00:00  \n203 2022-05-17 13:16:04+00:00  \n204 2022-05-17 15:00:23+00:00  \n205 2022-05-17 10:43:25+00:00  \n206 2022-05-17 11:32:44+00:00  \n\n[207 rows x 4 columns]",
      "text/html": "<div>\n<style scoped>\n    .dataframe tbody tr th:only-of-type {\n        vertical-align: middle;\n    }\n\n    .dataframe tbody tr th {\n        vertical-align: top;\n    }\n\n    .dataframe thead th {\n        text-align: right;\n    }\n</style>\n<table border=\"1\" class=\"dataframe\">\n  <thead>\n    <tr style=\"text-align: right;\">\n      <th></th>\n      <th>sentiment</th>\n      <th>frequent</th>\n      <th>verified</th>\n      <th>date</th>\n    </tr>\n  </thead>\n  <tbody>\n    <tr>\n      <th>0</th>\n      <td>False</td>\n      <td>[[passei, 1], [terceira, 1], [chamada, 1], [uf...</td>\n      <td>False</td>\n      <td>2022-05-24 00:15:08+00:00</td>\n    </tr>\n    <tr>\n      <th>1</th>\n      <td>False</td>\n      <td>[[papel, 1], [fies, 1], [prouni, 1], [privatiz...</td>\n      <td>False</td>\n      <td>2022-05-23 23:36:59+00:00</td>\n    </tr>\n    <tr>\n      <th>2</th>\n      <td>False</td>\n      <td>[[políticas, 1], [fiscais, 1], [liberdade, 1],...</td>\n      <td>False</td>\n      <td>2022-05-24 00:20:46+00:00</td>\n    </tr>\n    <tr>\n      <th>3</th>\n      <td>False</td>\n      <td>[[vou, 1], [tentar, 1], [pro, 1], [prouni, 1],...</td>\n      <td>False</td>\n      <td>2022-05-23 22:39:58+00:00</td>\n    </tr>\n    <tr>\n      <th>4</th>\n      <td>True</td>\n      <td>[[esqueceu, 1], [abertura, 1], [contra, 1], [l...</td>\n      <td>False</td>\n      <td>2022-05-24 00:48:04+00:00</td>\n    </tr>\n    <tr>\n      <th>...</th>\n      <td>...</td>\n      <td>...</td>\n      <td>...</td>\n      <td>...</td>\n    </tr>\n    <tr>\n      <th>202</th>\n      <td>True</td>\n      <td>[[acabei, 1], [notar, 1], [ano, 1], [completa,...</td>\n      <td>False</td>\n      <td>2022-05-17 13:03:08+00:00</td>\n    </tr>\n    <tr>\n      <th>203</th>\n      <td>True</td>\n      <td>[[veio, 1], [contrato, 1], [financeiro, 1], [f...</td>\n      <td>False</td>\n      <td>2022-05-17 13:16:04+00:00</td>\n    </tr>\n    <tr>\n      <th>204</th>\n      <td>False</td>\n      <td>[[enem, 2], [olho, 1], [prazo, 1], [inscrições...</td>\n      <td>False</td>\n      <td>2022-05-17 15:00:23+00:00</td>\n    </tr>\n    <tr>\n      <th>205</th>\n      <td>False</td>\n      <td>[[vou, 2], [ter, 1], [pagar, 1], [inscrição, 1...</td>\n      <td>False</td>\n      <td>2022-05-17 10:43:25+00:00</td>\n    </tr>\n    <tr>\n      <th>206</th>\n      <td>False</td>\n      <td>[[contou, 1], [mudei, 1], [faculdade, 1], [pra...</td>\n      <td>False</td>\n      <td>2022-05-17 11:32:44+00:00</td>\n    </tr>\n  </tbody>\n</table>\n<p>207 rows × 4 columns</p>\n</div>"
     },
     "execution_count": 8,
     "metadata": {},
     "output_type": "execute_result"
    }
   ],
   "source": [
    "file = \"twitter-results-2022-05-24_04-00-59.json\"\n",
    "df = pd.read_json(file)\n",
    "df"
   ],
   "metadata": {
    "collapsed": false,
    "pycharm": {
     "name": "#%%\n"
    }
   }
  },
  {
   "cell_type": "code",
   "execution_count": null,
   "outputs": [],
   "source": [],
   "metadata": {
    "collapsed": false,
    "pycharm": {
     "name": "#%%\n"
    }
   }
  }
 ],
 "metadata": {
  "kernelspec": {
   "display_name": "Python 3",
   "language": "python",
   "name": "python3"
  },
  "language_info": {
   "codemirror_mode": {
    "name": "ipython",
    "version": 2
   },
   "file_extension": ".py",
   "mimetype": "text/x-python",
   "name": "python",
   "nbconvert_exporter": "python",
   "pygments_lexer": "ipython2",
   "version": "2.7.6"
  }
 },
 "nbformat": 4,
 "nbformat_minor": 0
}